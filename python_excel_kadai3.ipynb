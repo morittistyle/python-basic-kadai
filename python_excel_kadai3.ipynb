{
  "nbformat": 4,
  "nbformat_minor": 0,
  "metadata": {
    "colab": {
      "provenance": [],
      "authorship_tag": "ABX9TyN2PABRFO8dIA+0X/Y7nZ8B",
      "include_colab_link": true
    },
    "kernelspec": {
      "name": "python3",
      "display_name": "Python 3"
    },
    "language_info": {
      "name": "python"
    }
  },
  "cells": [
    {
      "cell_type": "markdown",
      "metadata": {
        "id": "view-in-github",
        "colab_type": "text"
      },
      "source": [
        "<a href=\"https://colab.research.google.com/github/morittistyle/python-basic-kadai/blob/main/python_excel_kadai3.ipynb\" target=\"_parent\"><img src=\"https://colab.research.google.com/assets/colab-badge.svg\" alt=\"Open In Colab\"/></a>"
      ]
    },
    {
      "cell_type": "code",
      "execution_count": 4,
      "metadata": {
        "id": "UuHZXihSmTyK"
      },
      "outputs": [],
      "source": [
        "import openpyxl\n",
        "import pandas as pd\n",
        "from openpyxl.styles import PatternFill\n",
        "file_list=['2022_年間売上表.xlsx','2023_年間売上表.xlsx']\n",
        "df=pd.DataFrame()\n",
        "for file_name in file_list:\n",
        "  temp_df=pd.read_excel(file_name,header=0)\n",
        "  temp_df.dropna()\n",
        "  temp_df.columns=['売上年','商品','金額（千円）']\n",
        "  df=pd.concat([df,temp_df],ignore_index=False)\n",
        "  df.to_excel('combined_data.xlsx',index=False)\n",
        "concatenated_data=pd.read_excel('combined_data.xlsx')\n",
        "grouped_data=concatenated_data.groupby(['商品','売上年'])['金額（千円）'].sum().reset_index()\n",
        "grouped_data.to_excel('売上集計表.xlsx',index=False)\n",
        "workbook=openpyxl.load_workbook('売上集計表.xlsx')\n",
        "sheet=workbook.active\n",
        "fill=PatternFill(patternType='solid',fgColor='F2F2F2')\n",
        "for row in sheet.iter_rows(min_row=1,max_row=1,min_col=1,max_col=3):\n",
        "  for cell in row:\n",
        "    cell.fill=fill\n",
        "workbook.save('売上集計表.xlsx')"
      ]
    },
    {
      "cell_type": "code",
      "source": [],
      "metadata": {
        "id": "CV4omFtro-ja"
      },
      "execution_count": null,
      "outputs": []
    }
  ]
}