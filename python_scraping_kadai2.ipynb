{
  "nbformat": 4,
  "nbformat_minor": 0,
  "metadata": {
    "colab": {
      "provenance": [],
      "gpuType": "T4",
      "authorship_tag": "ABX9TyNsCWrg7zMXS+/tavwdIWaE",
      "include_colab_link": true
    },
    "kernelspec": {
      "name": "python3",
      "display_name": "Python 3"
    },
    "language_info": {
      "name": "python"
    }
  },
  "cells": [
    {
      "cell_type": "markdown",
      "metadata": {
        "id": "view-in-github",
        "colab_type": "text"
      },
      "source": [
        "<a href=\"https://colab.research.google.com/github/morittistyle/python-basic-kadai/blob/main/python_scraping_kadai2.ipynb\" target=\"_parent\"><img src=\"https://colab.research.google.com/assets/colab-badge.svg\" alt=\"Open In Colab\"/></a>"
      ]
    },
    {
      "cell_type": "code",
      "execution_count": 1,
      "metadata": {
        "colab": {
          "base_uri": "https://localhost:8080/"
        },
        "id": "XI4qpMdYnlLc",
        "outputId": "fa4affef-911a-41c8-c5f2-beb4a30268cd"
      },
      "outputs": [
        {
          "output_type": "stream",
          "name": "stdout",
          "text": [
            "Requirement already satisfied: requests in /usr/local/lib/python3.10/dist-packages (2.31.0)\n",
            "Requirement already satisfied: charset-normalizer<4,>=2 in /usr/local/lib/python3.10/dist-packages (from requests) (3.3.2)\n",
            "Requirement already satisfied: idna<4,>=2.5 in /usr/local/lib/python3.10/dist-packages (from requests) (3.6)\n",
            "Requirement already satisfied: urllib3<3,>=1.21.1 in /usr/local/lib/python3.10/dist-packages (from requests) (2.0.7)\n",
            "Requirement already satisfied: certifi>=2017.4.17 in /usr/local/lib/python3.10/dist-packages (from requests) (2023.11.17)\n"
          ]
        }
      ],
      "source": [
        "!pip install requests"
      ]
    },
    {
      "cell_type": "code",
      "source": [
        "import requests\n",
        "import pprint\n",
        "from getpass import getpass\n",
        "\n",
        "api_key=getpass('APIキーを入力してください')"
      ],
      "metadata": {
        "colab": {
          "base_uri": "https://localhost:8080/"
        },
        "id": "UGNAoTYDwzQH",
        "outputId": "766b4565-857f-4571-b83e-e53f109a1292"
      },
      "execution_count": 3,
      "outputs": [
        {
          "name": "stdout",
          "output_type": "stream",
          "text": [
            "APIキーを入力してください··········\n"
          ]
        }
      ]
    },
    {
      "cell_type": "code",
      "source": [
        "import requests\n",
        "\n",
        "station_name = input('検索する駅を入力してください: ')\n",
        "\n",
        "def geocode_address(api_key, address):\n",
        "    base_url = \"https://maps.googleapis.com/maps/api/geocode/json\"\n",
        "    params = {\n",
        "        'address': address,\n",
        "        'key': api_key\n",
        "    }\n",
        "    response = requests.get(base_url, params=params)\n",
        "    results = response.json()\n",
        "    location = results.get('results', [])[0].get('geometry', {}).get('location', {})\n",
        "    lat = location.get('lat', None)\n",
        "    lng = location.get('lng', None)\n",
        "    return f\"{lat},{lng}\"\n",
        "\n",
        "coordinates = geocode_address(api_key, station_name)\n",
        "\n",
        "def search_nearby_places(api_key, coordinates, radius=500, keyword=[\"レストラン名\",\"評価\",\"住所\"], place_type=\"restaurant\"):\n",
        "    base_url = \"https://maps.googleapis.com/maps/api/place/nearbysearch/json\"\n",
        "    params = {\n",
        "        'location': coordinates,\n",
        "        'radius': radius,\n",
        "        'keyword': keyword,\n",
        "        'type': place_type,\n",
        "        'key': api_key\n",
        "    }\n",
        "    response = requests.get(base_url, params=params)\n",
        "    results = response.json()\n",
        "    for place in results.get('results', []):\n",
        "        name = place.get('name', 'N/A')\n",
        "        rating = place.get('rating', 'N/A')\n",
        "        address = place.get('vicinity', 'N/A')\n",
        "        print(f\"レストラン名: {name}, 評価: {rating}, 住所: {address}\")\n",
        "\n",
        "search_nearby_places(api_key, coordinates)\n"
      ],
      "metadata": {
        "id": "WaH8XrNhxSmf",
        "colab": {
          "base_uri": "https://localhost:8080/"
        },
        "outputId": "768ae472-8923-4795-e520-d8dcf6a28865"
      },
      "execution_count": 14,
      "outputs": [
        {
          "output_type": "stream",
          "name": "stdout",
          "text": [
            "検索する駅を入力してください: 東京駅\n",
            "レストラン名: mikuni MARUNOUCHI, 評価: 4.1, 住所: Chiyoda City, Marunouchi, 2 Chome−6−1 ブリックスクエア アネックス（別館 2階\n",
            "レストラン名: Monna Lisa, 評価: 4.5, 住所: Chiyoda City, Marunouchi, 2 Chome−4−1 丸の内ビルディング 36F\n",
            "レストラン名: arcana tokyo, 評価: 4.3, 住所: Chiyoda City, Marunouchi, 2 Chome−7−2 JPタワーKITTE6階\n",
            "レストラン名: Koiwainojo TOKYO Marunouchi Bldg. Ten, 評価: 3.8, 住所: Chiyoda City, Marunouchi, 2 Chome−4−1 丸の内ビルディング５F\n",
            "レストラン名: Restaurant Omiya Shin-Marunouchi Bldg., 評価: 3.6, 住所: Chiyoda City, Marunouchi, 1 Chome−5−1 新丸の内ビルディング 5F\n",
            "レストラン名: Blanc Rouge, 評価: 4.4, 住所: Chiyoda City, Marunouchi, 1 Chome−9−1 東京ステーションホテル 2F\n",
            "レストラン名: Kitchen Ma Maison Yurakucho, 評価: 4.1, 住所: Kokusai Building, 3 Chome-1-1 B1 Marunouchi, Chiyoda City\n",
            "レストラン名: Papa Milano Sapia Tower, 評価: 3.7, 住所: Chiyoda City, Marunouchi, 1 Chome−7−12 サピアタワ 3F\n",
            "レストラン名: Plaiga TOKYO, 評価: 4.9, 住所: Chiyoda City, Marunouchi, 1 Chome−1−3 日本生命丸の内ガーデンタワー M2F\n",
            "レストラン名: Dining & Bar TENQOO（テンクウ）, 評価: 4.3, 住所: 1 Chome-7-12 Marunouchi, Chiyoda City\n",
            "レストラン名: Marunouchi Hotel Pomme d'Adam, 評価: 4.2, 住所: 1 Chome-6-3 Marunouchi, Chiyoda City\n",
            "レストラン名: Kyoto-cuisine Nana, 評価: 3.7, 住所: Chiyoda City, Marunouchi, 2 Chome−7−2 ＪＰタワ ５Ｆ\n",
            "レストラン名: 東京レストランバス, 評価: 4.8, 住所: Chiyoda City, Marunouchi, 2 Chome−4−1, Marunouchi Building, １F正面\n",
            "レストラン名: SAWAMURA, 評価: 4.1, 住所: Chiyoda City, Marunouchi, 1 Chome−5−1, Shin-Marunouchi Building, ７階\n",
            "レストラン名: Brasserie AUX AMIS Marunouchi, 評価: 4, 住所: Chiyoda City, Marunouchi, 3 Chome−3−1, Shin-Tokyo Building, 1F\n",
            "レストラン名: Mon Circulo, 評価: 4.1, 住所: Chiyoda City, Marunouchi, 1 Chome−4−5, Mitsubishi Ufj Trust and Banking Bldg., B１F\n",
            "レストラン名: Ozami Tokyo Marunouchi AUX AMIS TOKYO Marunouchi, 評価: 4.3, 住所: Chiyoda City, Marunouchi, 2 Chome−4−1, Marunouchi Building, ３５階\n",
            "レストラン名: Anthemble, 評価: 3.9, 住所: Chiyoda City, Marunouchi, 2 Chome−6−1 ブリックスクエア 3F\n",
            "レストラン名: Ristorante Hiro Centro Marunouchi Building, 評価: 4.1, 住所: Chiyoda City, Marunouchi, 2 Chome−4−1, Marunouchi Building, 35F\n",
            "レストラン名: Wattle Tokyo, 評価: 4.4, 住所: Chiyoda City, Marunouchi, 1 Chome−5−1 新丸の内ビルディング ６階\n"
          ]
        }
      ]
    },
    {
      "cell_type": "code",
      "source": [],
      "metadata": {
        "id": "cAGG7F1qCzj-"
      },
      "execution_count": null,
      "outputs": []
    }
  ]
}