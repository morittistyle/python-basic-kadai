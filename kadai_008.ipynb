{
  "nbformat": 4,
  "nbformat_minor": 0,
  "metadata": {
    "colab": {
      "provenance": [],
      "authorship_tag": "ABX9TyOtPL+iyvkFaDTOwe/Q/ea+",
      "include_colab_link": true
    },
    "kernelspec": {
      "name": "python3",
      "display_name": "Python 3"
    },
    "language_info": {
      "name": "python"
    }
  },
  "cells": [
    {
      "cell_type": "markdown",
      "metadata": {
        "id": "view-in-github",
        "colab_type": "text"
      },
      "source": [
        "<a href=\"https://colab.research.google.com/github/morittistyle/python-basic-kadai/blob/main/kadai_008.ipynb\" target=\"_parent\"><img src=\"https://colab.research.google.com/assets/colab-badge.svg\" alt=\"Open In Colab\"/></a>"
      ]
    },
    {
      "cell_type": "code",
      "source": [
        "import random\n",
        "num=random.randint(0,100)\n",
        "print(num)\n",
        "if num%3==0 and num%5==0:\n",
        "  print(\"FizzBuzz\")\n",
        "elif num%3==0:\n",
        "  print(\"Fizz\")\n",
        "elif num%5==0:\n",
        "  print(\"Buzz\")\n",
        "else:\n",
        "  print(\"var\")"
      ],
      "metadata": {
        "colab": {
          "base_uri": "https://localhost:8080/"
        },
        "id": "fNS2L9S2MkbS",
        "outputId": "2b92f6ca-c352-45b1-b7e1-69c9312176e7"
      },
      "execution_count": 72,
      "outputs": [
        {
          "output_type": "stream",
          "name": "stdout",
          "text": [
            "90\n",
            "FizzBuzz\n"
          ]
        }
      ]
    }
  ]
}