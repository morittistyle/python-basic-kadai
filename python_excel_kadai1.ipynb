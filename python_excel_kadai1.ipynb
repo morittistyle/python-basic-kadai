{
  "nbformat": 4,
  "nbformat_minor": 0,
  "metadata": {
    "colab": {
      "provenance": [],
      "authorship_tag": "ABX9TyOYiRPSykNQM1WbN43E0NGy",
      "include_colab_link": true
    },
    "kernelspec": {
      "name": "python3",
      "display_name": "Python 3"
    },
    "language_info": {
      "name": "python"
    }
  },
  "cells": [
    {
      "cell_type": "markdown",
      "metadata": {
        "id": "view-in-github",
        "colab_type": "text"
      },
      "source": [
        "<a href=\"https://colab.research.google.com/github/morittistyle/python-basic-kadai/blob/main/python_excel_kadai1.ipynb\" target=\"_parent\"><img src=\"https://colab.research.google.com/assets/colab-badge.svg\" alt=\"Open In Colab\"/></a>"
      ]
    },
    {
      "cell_type": "code",
      "execution_count": 4,
      "metadata": {
        "id": "O85CL62KN0Mi"
      },
      "outputs": [],
      "source": [
        "import openpyxl\n",
        "from datetime import datetime\n",
        "today=datetime.today()\n",
        "\n",
        "workbook=openpyxl.Workbook()\n",
        "sheet=workbook.active\n",
        "\n",
        "sheet['B2'].value='請求書'\n",
        "sheet['B4'].value='株式会社ABC'\n",
        "sheet['B5'].value='〒101-0022 東京都千代田区神田練塀町300'\n",
        "sheet['B6'].value='TEL:03-1234-5678 FAX:03-1234-5678'\n",
        "sheet['B7'].value='担当者名:鈴木一郎 様'\n",
        "sheet['F4'].value='No.'\n",
        "sheet['G4'].value='0001'\n",
        "sheet['F5'].value='日付'\n",
        "sheet['F6']=today.strftime('%Y%m%d')\n",
        "sheet['C11']=2\n",
        "sheet['C12']=1\n",
        "sheet['D11']=10000\n",
        "sheet['D12']=15000\n",
        "sheet['E11']=20000\n",
        "sheet['E12']=15000\n",
        "\n",
        "sheet.cell(row=10,column=2,value='商品名')\n",
        "sheet.cell(row=10,column=3,value='数量')\n",
        "sheet.cell(row=10,column=4,value='単価')\n",
        "sheet.cell(row=10,column=5,value='金額')\n",
        "sheet.cell(row=11,column=2,value='商品A')\n",
        "sheet.cell(row=12,column=2,value='商品B')\n",
        "sheet.cell(row=15,column=2,value='小計')\n",
        "sheet.cell(row=16,column=2,value='消費税')\n",
        "sheet.cell(row=17,column=2,value='合計')\n",
        "sheet.cell(row=13,column=5,value=35000)\n",
        "sheet.cell(row=15,column=5,value=35000)\n",
        "sheet.cell(row=16,column=5,value=3500)\n",
        "sheet.cell(row=17,column=5,value=38500)\n",
        "\n",
        "backup_filename=f\"請求書_{today.strftime('%Y%m%d')}.xlsx\"\n",
        "workbook.save(backup_filename)"
      ]
    }
  ]
}