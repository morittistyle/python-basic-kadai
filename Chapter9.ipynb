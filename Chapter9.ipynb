{
  "nbformat": 4,
  "nbformat_minor": 0,
  "metadata": {
    "colab": {
      "provenance": [],
      "authorship_tag": "ABX9TyOdTYtpI6qirtBFXjWtsG0U",
      "include_colab_link": true
    },
    "kernelspec": {
      "name": "python3",
      "display_name": "Python 3"
    },
    "language_info": {
      "name": "python"
    }
  },
  "cells": [
    {
      "cell_type": "markdown",
      "metadata": {
        "id": "view-in-github",
        "colab_type": "text"
      },
      "source": [
        "<a href=\"https://colab.research.google.com/github/morittistyle/python-basic-kadai/blob/main/Chapter9.ipynb\" target=\"_parent\"><img src=\"https://colab.research.google.com/assets/colab-badge.svg\" alt=\"Open In Colab\"/></a>"
      ]
    },
    {
      "cell_type": "code",
      "source": [
        "import pandas as pd\n",
        "df=pd.DataFrame({\n",
        "    '日付':\n",
        "    ['2023-05-17','2023-05-18','2023-05-19','2023-05-20','2023-05-21'],\n",
        "    '社員名':['山田','佐藤','鈴木','田中','高橋'],\n",
        "    '売上':[100,200,150,300,250],\n",
        "    '部門':['メーカー','代理店','メーカー','商社','代理店']\n",
        "})\n",
        "df['平均売上']=df['売上'].mean()\n",
        "def performance(level):\n",
        "  result='';\n",
        "  if level>=df['売上'].mean()+50:\n",
        "    result='A';\n",
        "  elif level>=df['売上'].mean():\n",
        "    result='B';\n",
        "  else:\n",
        "    result='C';\n",
        "  return result\n",
        "df['業績ランク']=df['売上'].apply(performance)\n",
        "writer=pd.ExcelWriter('業績.xlsx')\n",
        "df.to_excel(writer,sheet_name='Sheet1',index=False)\n",
        "writer.close()"
      ],
      "metadata": {
        "id": "DM5CI5YvedKM"
      },
      "execution_count": 21,
      "outputs": []
    },
    {
      "cell_type": "code",
      "source": [],
      "metadata": {
        "id": "oZvXC-Vzi4pB"
      },
      "execution_count": null,
      "outputs": []
    }
  ]
}