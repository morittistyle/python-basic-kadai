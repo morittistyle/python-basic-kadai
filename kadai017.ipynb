{
  "nbformat": 4,
  "nbformat_minor": 0,
  "metadata": {
    "colab": {
      "provenance": [],
      "authorship_tag": "ABX9TyMhfMYF37Wt0ZNCb/vvbH/y",
      "include_colab_link": true
    },
    "kernelspec": {
      "name": "python3",
      "display_name": "Python 3"
    },
    "language_info": {
      "name": "python"
    }
  },
  "cells": [
    {
      "cell_type": "markdown",
      "metadata": {
        "id": "view-in-github",
        "colab_type": "text"
      },
      "source": [
        "<a href=\"https://colab.research.google.com/github/morittistyle/python-basic-kadai/blob/main/kadai017.ipynb\" target=\"_parent\"><img src=\"https://colab.research.google.com/assets/colab-badge.svg\" alt=\"Open In Colab\"/></a>"
      ]
    },
    {
      "cell_type": "code",
      "source": [
        "class Human:\n",
        "  def __init__(self,name,age):\n",
        "    self.name=name\n",
        "    self.age=age\n",
        "  def check_adult(self):\n",
        "      if self.age>=20:\n",
        "        print(\"大人です。\")\n",
        "      if self.age<20:\n",
        "        print(\"大人ではないです。\")\n",
        "human1=Human(\"侍太郎\",25)\n",
        "human2=Human(\"侍一郎\",20)\n",
        "human3=Human(\"侍二郎\",15)\n",
        "human_group=[human1,human2,human3]\n",
        "for human in human_group:\n",
        "  human.check_adult()"
      ],
      "metadata": {
        "colab": {
          "base_uri": "https://localhost:8080/"
        },
        "id": "EV9jluWAwO84",
        "outputId": "ffa12912-d73a-406b-95b2-11c74d43cfb3"
      },
      "execution_count": 19,
      "outputs": [
        {
          "output_type": "stream",
          "name": "stdout",
          "text": [
            "大人です。\n",
            "大人です。\n",
            "大人ではないです。\n"
          ]
        }
      ]
    }
  ]
}