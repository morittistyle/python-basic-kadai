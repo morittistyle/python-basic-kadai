{
  "nbformat": 4,
  "nbformat_minor": 0,
  "metadata": {
    "colab": {
      "provenance": [],
      "authorship_tag": "ABX9TyOjEFQ4NJ2PiHiDFe6oTBis",
      "include_colab_link": true
    },
    "kernelspec": {
      "name": "python3",
      "display_name": "Python 3"
    },
    "language_info": {
      "name": "python"
    }
  },
  "cells": [
    {
      "cell_type": "markdown",
      "metadata": {
        "id": "view-in-github",
        "colab_type": "text"
      },
      "source": [
        "<a href=\"https://colab.research.google.com/github/morittistyle/python-basic-kadai/blob/main/python_scraping_kadai1.ipynb\" target=\"_parent\"><img src=\"https://colab.research.google.com/assets/colab-badge.svg\" alt=\"Open In Colab\"/></a>"
      ]
    },
    {
      "cell_type": "code",
      "execution_count": 8,
      "metadata": {
        "colab": {
          "base_uri": "https://localhost:8080/"
        },
        "id": "Gzyg4Rb7m1hc",
        "outputId": "4bec7781-24e1-4da9-99fd-ee5b0c1f3d1f"
      },
      "outputs": [
        {
          "output_type": "stream",
          "name": "stdout",
          "text": [
            "国家航空宇宙技術総局平壌総合管制所で2023年11月24日、偵察衛星の運用準備と同日撮影の画像を確認する金正恩総書記。朝鮮中央通信が配信した=朝鮮通信　北朝鮮の朝鮮中央通信は25日、金正恩（キムジョンウン）総書記が25日まで2日連続で平壌の軍事偵察衛星の管制所を訪れ、在韓米軍基地やハワイの米軍基地などを撮影した写真を確認した、と報じた。韓国・釜山に停泊中の米原子力空母カールビンソンを撮影したとも主張。一方で写真を公開しておらず、本当に撮影したのかは不明だ。\n",
            "\n",
            "【画像】ジレンマ抱える金正恩氏　北朝鮮分析40年超の識者が見た「謎の国」\n",
            "\n",
            "　朝鮮中央通信によると、金氏は、国家航空宇宙技術総局の平壌総合管制所を訪れた。偵察衛星は24日午前10時15～27分と25日午前9時59分～10時2分に朝鮮半島上空を通過した。韓国軍や在韓米軍基地の場所を中心に韓国国内の11カ所を列挙し「重要標的地域」を撮影したと主張している。\n",
            "\n",
            "　24日には、在韓米軍司令部が置かれ、米軍の海外駐屯基地として最大級のキャンプ・ハンフリーズのある京畿道平沢（ピョンテク）やソウルなどを撮影。25日には、韓国海軍の釜山作戦基地に21日から停泊しているカールビンソンなどを撮影したという。また、25日午前5時13分（平壌時間）には米ハワイ上空を通過し、海軍基地や空軍基地を撮影。金氏はこれらの写真も管制所で確認した、と主張している。\n",
            "\n",
            "　偵察衛星は21日夜に打ち上げられ、金氏は管制所を22日から4日間で計3回という頻度で訪問している。22日にはグアムのアンダーセン米空軍基地を撮影した写真を見たとしている。\n",
            "\n",
            "　日韓政府も、北朝鮮の軍事偵察衛星が地球周回軌道に入ったことはすでに確認している。北朝鮮は12月1日から偵察衛星を本格運用するとの方針を示しており、現在は、撮影や地上への伝送が円滑に進むかどうか、確認作業を進めているとみられる。\n",
            "\n",
            "　一方、北朝鮮は撮影した写真を公開しておらず、撮影したとする発表の真偽や解像度などは不明だ。韓国の情報機関・国家情報院は、軍事偵察衛星として有用な水準には達していないとみており、「画像を公開しなければ力量を把握できない」との立場だ。（ソウル=太田成美）朝日新聞社\n"
          ]
        }
      ],
      "source": [
        "import requests\n",
        "from bs4 import BeautifulSoup\n",
        "\n",
        "url='https://news.yahoo.co.jp/articles/acd3ab21d0c68e3199cd6374bc7f7b7a390656a6'\n",
        "response=requests.get(url)\n",
        "soup=BeautifulSoup(response.text,'html.parser')\n",
        "paragraphs=soup.select_one('#uamods>div')\n",
        "paragraphs_text=paragraphs.text\n",
        "print(paragraphs_text)"
      ]
    },
    {
      "cell_type": "code",
      "source": [],
      "metadata": {
        "id": "zvLJRj_5oqbt"
      },
      "execution_count": null,
      "outputs": []
    }
  ]
}